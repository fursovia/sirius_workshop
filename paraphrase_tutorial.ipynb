{
 "cells": [
  {
   "cell_type": "markdown",
   "metadata": {},
   "source": [
    "# Sirius Workshop 2019\n",
    "\n",
    "This tutorial is prepared by Ivan Fursov at Tinkoff.\n",
    "\n",
    "Telegram: [@fursov](https://tele.click/fursov)"
   ]
  },
  {
   "cell_type": "markdown",
   "metadata": {},
   "source": [
    "# Paraphrase identification\n",
    "\n",
    "**Download** files from [here](https://yadi.sk/d/pTSMZfLAo7DjrQ)\n",
    "\n",
    "Task: given a pair of sentences, classify them as paraphrases or not paraphrases\n",
    "\n",
    "Dataset: [Quora Question Pairs](https://www.kaggle.com/quora/question-pairs-dataset)\n",
    "\n",
    "Quora's first public dataset is related to the problem of identifying duplicate questions. At Quora, an important product principle is that there should be a single question page for each logically distinct question. For example, the queries “What is the most populous state in the USA?” and “Which state in the United States has the most people?” should not exist separately on Quora because the intent behind both is identical. "
   ]
  },
  {
   "cell_type": "code",
   "execution_count": 1,
   "metadata": {},
   "outputs": [],
   "source": [
    "import re\n",
    "import os\n",
    "\n",
    "import numpy as np\n",
    "import pandas as pd\n",
    "from sklearn.metrics import f1_score\n",
    "from sklearn.model_selection import train_test_split\n",
    "from sklearn.preprocessing import normalize\n",
    "\n",
    "pd.set_option('max_colwidth', 80)"
   ]
  },
  {
   "cell_type": "code",
   "execution_count": 2,
   "metadata": {},
   "outputs": [],
   "source": [
    "def clean_string(string):\n",
    "    \"\"\"\n",
    "    Remove non-letter symbols, lower the text\n",
    "    \"\"\"\n",
    "    string = re.sub(r\"[^A-Za-z ]\", \" \", string)  \n",
    "    return string.strip().lower()"
   ]
  },
  {
   "cell_type": "code",
   "execution_count": 3,
   "metadata": {},
   "outputs": [],
   "source": [
    "# load the data\n",
    "\n",
    "data = pd.read_csv('data/questions.csv', nrows=1000)\n",
    "data = data.dropna()\n",
    "\n",
    "data['question1'] = data['question1'].apply(clean_string)\n",
    "data['question2'] = data['question2'].apply(clean_string)\n",
    "\n",
    "data = data[['question1', 'question2', 'is_duplicate']]\n",
    "data.columns = ['text1', 'text2', 'labels']\n",
    "\n",
    "data = data[data['text1'].apply(lambda x: len(x) > 0) & (data['text2'].apply(lambda x: len(x) > 0))]"
   ]
  },
  {
   "cell_type": "markdown",
   "metadata": {},
   "source": [
    "### Dataset structure\n",
    "\n",
    "There are three columns: **text1**, **text2** and **labels**. **text1**, **text2** are strings and **labels** can take 2 values: $0$, $1$. $1$ corresponds to \"texts have similar meaning\", and $0$ --- otherwise."
   ]
  },
  {
   "cell_type": "code",
   "execution_count": 4,
   "metadata": {},
   "outputs": [
    {
     "data": {
      "text/html": [
       "<div>\n",
       "<style scoped>\n",
       "    .dataframe tbody tr th:only-of-type {\n",
       "        vertical-align: middle;\n",
       "    }\n",
       "\n",
       "    .dataframe tbody tr th {\n",
       "        vertical-align: top;\n",
       "    }\n",
       "\n",
       "    .dataframe thead th {\n",
       "        text-align: right;\n",
       "    }\n",
       "</style>\n",
       "<table border=\"1\" class=\"dataframe\">\n",
       "  <thead>\n",
       "    <tr style=\"text-align: right;\">\n",
       "      <th></th>\n",
       "      <th>text1</th>\n",
       "      <th>text2</th>\n",
       "      <th>labels</th>\n",
       "    </tr>\n",
       "  </thead>\n",
       "  <tbody>\n",
       "    <tr>\n",
       "      <th>714</th>\n",
       "      <td>what is the fastest production car</td>\n",
       "      <td>what is the world s fastest street legal car</td>\n",
       "      <td>0</td>\n",
       "    </tr>\n",
       "    <tr>\n",
       "      <th>284</th>\n",
       "      <td>how can i make money online with free of cost</td>\n",
       "      <td>how do i to make money online</td>\n",
       "      <td>1</td>\n",
       "    </tr>\n",
       "    <tr>\n",
       "      <th>623</th>\n",
       "      <td>how should i respond to my boss who fired me via email</td>\n",
       "      <td>is it okay to fire someone via email</td>\n",
       "      <td>0</td>\n",
       "    </tr>\n",
       "    <tr>\n",
       "      <th>453</th>\n",
       "      <td>what are the differences between pocso and sexual offenses in the ipc</td>\n",
       "      <td>do we need the ipc section</td>\n",
       "      <td>0</td>\n",
       "    </tr>\n",
       "    <tr>\n",
       "      <th>295</th>\n",
       "      <td>what will be the effect of banning     and      notes on stock markets in india</td>\n",
       "      <td>what will be the effect of the ban of the     rs and    rs notes on the stoc...</td>\n",
       "      <td>1</td>\n",
       "    </tr>\n",
       "  </tbody>\n",
       "</table>\n",
       "</div>"
      ],
      "text/plain": [
       "                                                                               text1  \\\n",
       "714                                               what is the fastest production car   \n",
       "284                                    how can i make money online with free of cost   \n",
       "623                           how should i respond to my boss who fired me via email   \n",
       "453            what are the differences between pocso and sexual offenses in the ipc   \n",
       "295  what will be the effect of banning     and      notes on stock markets in india   \n",
       "\n",
       "                                                                               text2  \\\n",
       "714                                     what is the world s fastest street legal car   \n",
       "284                                                    how do i to make money online   \n",
       "623                                             is it okay to fire someone via email   \n",
       "453                                                       do we need the ipc section   \n",
       "295  what will be the effect of the ban of the     rs and    rs notes on the stoc...   \n",
       "\n",
       "     labels  \n",
       "714       0  \n",
       "284       1  \n",
       "623       0  \n",
       "453       0  \n",
       "295       1  "
      ]
     },
     "execution_count": 4,
     "metadata": {},
     "output_type": "execute_result"
    }
   ],
   "source": [
    "data.sample(5)"
   ]
  },
  {
   "cell_type": "markdown",
   "metadata": {},
   "source": [
    "### Train/Dev/Test"
   ]
  },
  {
   "cell_type": "code",
   "execution_count": 5,
   "metadata": {},
   "outputs": [],
   "source": [
    "# train/dev/test -> 70/15/15\n",
    "data_splits = ('train', 'dev', 'test')\n",
    "\n",
    "train, intermediate = train_test_split(data, test_size=0.3, random_state=24)\n",
    "dev, test = train_test_split(intermediate, test_size=0.5, random_state=24)"
   ]
  },
  {
   "cell_type": "code",
   "execution_count": 6,
   "metadata": {},
   "outputs": [
    {
     "data": {
      "text/plain": [
       "((700, 3), (150, 3), (150, 3))"
      ]
     },
     "execution_count": 6,
     "metadata": {},
     "output_type": "execute_result"
    }
   ],
   "source": [
    "train.shape, dev.shape, test.shape"
   ]
  },
  {
   "cell_type": "markdown",
   "metadata": {},
   "source": [
    "# Baseline approaches"
   ]
  },
  {
   "cell_type": "markdown",
   "metadata": {},
   "source": [
    "\n",
    "## Text representations\n",
    "### Bag-of-Words\n",
    "\n",
    "Bag of Words (BoW) is an algorithm that counts how many times a word appears in a document. Those word counts allow us to compare documents and gauge their similarities for applications like search, document classification and topic modeling."
   ]
  },
  {
   "cell_type": "code",
   "execution_count": 7,
   "metadata": {},
   "outputs": [],
   "source": [
    "from sklearn.feature_extraction.text import CountVectorizer, TfidfVectorizer\n",
    "from collections import defaultdict\n",
    "\n",
    "import scipy\n",
    "from scipy.sparse import csr_matrix"
   ]
  },
  {
   "cell_type": "markdown",
   "metadata": {},
   "source": [
    "$$\n",
    "{\\displaystyle {\\text{similarity}}=\\cos(\\theta )={\\mathbf {A} \\cdot \\mathbf {B}  \\over \\|\\mathbf {A} \\|\\|\\mathbf {B} \\|}={\\frac {\\sum \\limits _{i=1}^{n}{A_{i}B_{i}}}{{\\sqrt {\\sum \\limits _{i=1}^{n}{A_{i}^{2}}}}{\\sqrt {\\sum \\limits _{i=1}^{n}{B_{i}^{2}}}}}},}\n",
    "$$"
   ]
  },
  {
   "cell_type": "code",
   "execution_count": 8,
   "metadata": {},
   "outputs": [],
   "source": [
    "def calculate_cosine_distance(textA, textB):\n",
    "    textA = normalize(textA)\n",
    "    textB = normalize(textB)\n",
    "    if isinstance(textA, np.ndarray):\n",
    "        dot_product = np.multiply(textA, textB).sum(axis=1).flatten()\n",
    "    else:\n",
    "        dot_product = np.array(textA.multiply(textB).sum(axis=1)).flatten()\n",
    "    return 1 - dot_product"
   ]
  },
  {
   "cell_type": "code",
   "execution_count": 9,
   "metadata": {},
   "outputs": [],
   "source": [
    "bow = CountVectorizer()\n",
    "bow.fit(train['text1'].tolist() + train['text2'].tolist())\n",
    "\n",
    "bow_data = {name: dict() for name in data_splits}\n",
    "\n",
    "for d, name in zip((train, dev, test), data_splits):\n",
    "    bow_data[name]['text1'] = bow.transform(d['text1'].tolist())\n",
    "    bow_data[name]['text2'] = bow.transform(d['text2'].tolist())"
   ]
  },
  {
   "cell_type": "code",
   "execution_count": 10,
   "metadata": {},
   "outputs": [
    {
     "data": {
      "text/plain": [
       "((700, 3010), (700, 3010))"
      ]
     },
     "execution_count": 10,
     "metadata": {},
     "output_type": "execute_result"
    }
   ],
   "source": [
    "bow_data['train']['text1'].shape, bow_data['train']['text2'].shape"
   ]
  },
  {
   "cell_type": "code",
   "execution_count": 11,
   "metadata": {},
   "outputs": [],
   "source": [
    "def calculate_score(textA, textB, labels):\n",
    "    cos_dists = calculate_cosine_distance(textA, textB)\n",
    "\n",
    "    best_f1 = 0\n",
    "    best_thres = None\n",
    "\n",
    "    for thres in np.linspace(0, 2, num=50):\n",
    "        f1 = f1_score((cos_dists < thres).astype(np.int32), labels)\n",
    "        if f1 > best_f1:\n",
    "            best_f1 = f1\n",
    "            best_thres = thres\n",
    "            \n",
    "    return best_f1, best_thres"
   ]
  },
  {
   "cell_type": "code",
   "execution_count": 12,
   "metadata": {},
   "outputs": [
    {
     "name": "stdout",
     "output_type": "stream",
     "text": [
      "(DEV) F1 score = 0.6190476190476191\n"
     ]
    }
   ],
   "source": [
    "best_f1, best_thres = calculate_score(\n",
    "    bow_data['dev']['text1'], \n",
    "    bow_data['dev']['text2'],\n",
    "    dev['labels'].values\n",
    ")\n",
    "\n",
    "print(f'(DEV) F1 score = {best_f1}')"
   ]
  },
  {
   "cell_type": "code",
   "execution_count": 13,
   "metadata": {},
   "outputs": [
    {
     "name": "stdout",
     "output_type": "stream",
     "text": [
      "(TEST) F1 score = 0.6623376623376623\n"
     ]
    }
   ],
   "source": [
    "test_cos_dists = calculate_cosine_distance(bow_data['test']['text1'], bow_data['test']['text2'])\n",
    "\n",
    "test_f1 = f1_score((test_cos_dists < best_thres).astype(np.int32), test['labels'].values)\n",
    "print(f'(TEST) F1 score = {test_f1}')"
   ]
  },
  {
   "cell_type": "markdown",
   "metadata": {},
   "source": [
    "## Tf-Idf\n",
    "\n",
    "Term-frequency-inverse document frequency (TF-IDF) is another way to represent a text by the words it contains. With TF-IDF, words are given weight – TF-IDF measures relevance, not frequency. That is, wordcounts are replaced with TF-IDF scores across the whole dataset.\n",
    "\n",
    "<img src=\"https://skymind.ai/images/wiki/tfidf.png\">"
   ]
  },
  {
   "cell_type": "code",
   "execution_count": 14,
   "metadata": {},
   "outputs": [],
   "source": [
    "tfidf = TfidfVectorizer()\n",
    "tfidf.fit(train['text1'].tolist() + train['text2'].tolist())\n",
    "\n",
    "tfidf_data = {name: dict() for name in data_splits}\n",
    "\n",
    "for d, name in zip((train, dev, test), data_splits):\n",
    "    tfidf_data[name]['text1'] = tfidf.transform(d['text1'].tolist())\n",
    "    tfidf_data[name]['text2'] = tfidf.transform(d['text2'].tolist())"
   ]
  },
  {
   "cell_type": "code",
   "execution_count": 15,
   "metadata": {},
   "outputs": [
    {
     "data": {
      "text/plain": [
       "((700, 3010), (700, 3010))"
      ]
     },
     "execution_count": 15,
     "metadata": {},
     "output_type": "execute_result"
    }
   ],
   "source": [
    "tfidf_data['train']['text1'].shape, tfidf_data['train']['text2'].shape"
   ]
  },
  {
   "cell_type": "code",
   "execution_count": 16,
   "metadata": {},
   "outputs": [
    {
     "name": "stdout",
     "output_type": "stream",
     "text": [
      "(DEV) F1 score = 0.6373626373626373\n"
     ]
    }
   ],
   "source": [
    "best_f1, best_thres = calculate_score(\n",
    "    tfidf_data['dev']['text1'], \n",
    "    tfidf_data['dev']['text2'],\n",
    "    dev['labels'].values\n",
    ")\n",
    "\n",
    "print(f'(DEV) F1 score = {best_f1}')"
   ]
  },
  {
   "cell_type": "code",
   "execution_count": 17,
   "metadata": {},
   "outputs": [
    {
     "name": "stdout",
     "output_type": "stream",
     "text": [
      "(TEST) F1 score = 0.6309523809523809\n"
     ]
    }
   ],
   "source": [
    "test_cos_dists = calculate_cosine_distance(tfidf_data['test']['text1'], tfidf_data['test']['text2'])\n",
    "test_f1 = f1_score((test_cos_dists < best_thres).astype(np.int32), test['labels'].values)\n",
    "print(f'(TEST) F1 score = {test_f1}')"
   ]
  },
  {
   "cell_type": "markdown",
   "metadata": {},
   "source": [
    "### Tf-Idf on char n-grams\n",
    "\n",
    "Very helpful if you work with russian language."
   ]
  },
  {
   "cell_type": "code",
   "execution_count": 18,
   "metadata": {},
   "outputs": [],
   "source": [
    "tfidf = TfidfVectorizer(analyzer='char', ngram_range=(3, 5))\n",
    "tfidf.fit(train['text1'].tolist() + train['text2'].tolist())\n",
    "\n",
    "tfidf_data = {name: dict() for name in data_splits}\n",
    "\n",
    "for d, name in zip((train, dev, test), data_splits):\n",
    "    tfidf_data[name]['text1'] = tfidf.transform(d['text1'].tolist())\n",
    "    tfidf_data[name]['text2'] = tfidf.transform(d['text2'].tolist())"
   ]
  },
  {
   "cell_type": "code",
   "execution_count": 19,
   "metadata": {},
   "outputs": [
    {
     "data": {
      "text/plain": [
       "(700, 38995)"
      ]
     },
     "execution_count": 19,
     "metadata": {},
     "output_type": "execute_result"
    }
   ],
   "source": [
    "tfidf_data['train']['text1'].shape"
   ]
  },
  {
   "cell_type": "code",
   "execution_count": 20,
   "metadata": {},
   "outputs": [
    {
     "name": "stdout",
     "output_type": "stream",
     "text": [
      "(DEV) F1 score = 0.6424242424242425\n"
     ]
    },
    {
     "name": "stderr",
     "output_type": "stream",
     "text": [
      "/Library/Frameworks/Python.framework/Versions/3.6/lib/python3.6/site-packages/sklearn/metrics/classification.py:1439: UndefinedMetricWarning: F-score is ill-defined and being set to 0.0 due to no true samples.\n",
      "  'recall', 'true', average, warn_for)\n"
     ]
    }
   ],
   "source": [
    "best_f1, best_thres = calculate_score(\n",
    "    tfidf_data['dev']['text1'], \n",
    "    tfidf_data['dev']['text2'],\n",
    "    dev['labels'].values\n",
    ")\n",
    "\n",
    "print(f'(DEV) F1 score = {best_f1}')"
   ]
  },
  {
   "cell_type": "code",
   "execution_count": 21,
   "metadata": {},
   "outputs": [
    {
     "name": "stdout",
     "output_type": "stream",
     "text": [
      "(TEST) F1 score = 0.6797385620915033\n"
     ]
    }
   ],
   "source": [
    "test_cos_dists = calculate_cosine_distance(tfidf_data['test']['text1'], tfidf_data['test']['text2'])\n",
    "test_f1 = f1_score((test_cos_dists < best_thres).astype(np.int32), test['labels'].values)\n",
    "print(f'(TEST) F1 score = {test_f1}')"
   ]
  },
  {
   "cell_type": "markdown",
   "metadata": {},
   "source": [
    "## Neural Approaches -- fastText\n",
    "\n",
    "The gist of fastText is that instead of directly learning a vector representation for a word (as with word2vec), we learn a representation for each character n-gram. Each word is represented as a bag of character n-grams, so the overall word embedding is a sum of these character n-grams.\n",
    "\n",
    "fastText is a library whose purpose is to be used as a fast baseline for text embeddings/classification when deep learning approaches are just too slow and expensive."
   ]
  },
  {
   "cell_type": "code",
   "execution_count": 22,
   "metadata": {},
   "outputs": [],
   "source": [
    "from gensim.models import FastText"
   ]
  },
  {
   "cell_type": "code",
   "execution_count": 23,
   "metadata": {},
   "outputs": [],
   "source": [
    "# full corpora\n",
    "\n",
    "texts = train['text1'].tolist() + train['text2'].tolist()\n",
    "texts = [text.split() for text in texts]"
   ]
  },
  {
   "cell_type": "code",
   "execution_count": 26,
   "metadata": {},
   "outputs": [
    {
     "name": "stdout",
     "output_type": "stream",
     "text": [
      "CPU times: user 3.64 s, sys: 942 ms, total: 4.58 s\n",
      "Wall time: 4.65 s\n"
     ]
    }
   ],
   "source": [
    "%%time\n",
    "\n",
    "model = FastText(texts, size=32, min_count=1)"
   ]
  },
  {
   "cell_type": "code",
   "execution_count": 27,
   "metadata": {},
   "outputs": [],
   "source": [
    "def text2vec(text, model=model):\n",
    "    assert len(text) > 0\n",
    "\n",
    "    vectors = []\n",
    "    for word in text.split():\n",
    "        try:\n",
    "            vectors.append(model.wv[word])\n",
    "        except KeyError:\n",
    "            vectors.append(np.zeros(model.vector_size))\n",
    "\n",
    "    return np.mean(vectors, axis=0)"
   ]
  },
  {
   "cell_type": "code",
   "execution_count": 28,
   "metadata": {},
   "outputs": [],
   "source": [
    "fasttext_data = {name: dict() for name in data_splits}\n",
    "\n",
    "for d, name in zip((train, dev, test), data_splits):\n",
    "    fasttext_data[name]['text1'] = np.array([text2vec(t) for t in d['text1'].tolist()])\n",
    "    fasttext_data[name]['text2'] = np.array([text2vec(t) for t in d['text2'].tolist()])"
   ]
  },
  {
   "cell_type": "code",
   "execution_count": 29,
   "metadata": {},
   "outputs": [
    {
     "data": {
      "text/plain": [
       "(700, 32)"
      ]
     },
     "execution_count": 29,
     "metadata": {},
     "output_type": "execute_result"
    }
   ],
   "source": [
    "fasttext_data['train']['text1'].shape"
   ]
  },
  {
   "cell_type": "code",
   "execution_count": 30,
   "metadata": {},
   "outputs": [
    {
     "name": "stdout",
     "output_type": "stream",
     "text": [
      "(DEV) F1 score = 0.5645933014354066\n"
     ]
    },
    {
     "name": "stderr",
     "output_type": "stream",
     "text": [
      "/Library/Frameworks/Python.framework/Versions/3.6/lib/python3.6/site-packages/sklearn/metrics/classification.py:1439: UndefinedMetricWarning: F-score is ill-defined and being set to 0.0 due to no true samples.\n",
      "  'recall', 'true', average, warn_for)\n"
     ]
    }
   ],
   "source": [
    "best_f1, best_thres = calculate_score(\n",
    "    fasttext_data['dev']['text1'], \n",
    "    fasttext_data['dev']['text2'],\n",
    "    dev['labels'].values\n",
    ")\n",
    "\n",
    "print(f'(DEV) F1 score = {best_f1}')"
   ]
  },
  {
   "cell_type": "code",
   "execution_count": 31,
   "metadata": {},
   "outputs": [
    {
     "name": "stdout",
     "output_type": "stream",
     "text": [
      "(TEST) F1 score = 0.5294117647058824\n"
     ]
    }
   ],
   "source": [
    "test_cos_dists = calculate_cosine_distance(fasttext_data['test']['text1'], fasttext_data['test']['text2'])\n",
    "test_f1 = f1_score((test_cos_dists < best_thres).astype(np.int32), test['labels'].values)\n",
    "print(f'(TEST) F1 score = {test_f1}')"
   ]
  },
  {
   "cell_type": "markdown",
   "metadata": {},
   "source": [
    "## Pre-trained fasttext\n",
    "\n",
    "Learning word representation requires serious computational power and time. Since Facebook has done it for you, why not using that to boost productivity?"
   ]
  },
  {
   "cell_type": "code",
   "execution_count": null,
   "metadata": {},
   "outputs": [],
   "source": [
    "from gensim.models import KeyedVectors"
   ]
  },
  {
   "cell_type": "code",
   "execution_count": null,
   "metadata": {},
   "outputs": [],
   "source": [
    "# uncomment if you'd like to download (2.5Gb+)\n",
    "\n",
    "# !wget https://dl.fbaipublicfiles.com/fasttext/vectors-english/wiki-news-300d-1M.vec.zip\n",
    "# !unzip wiki-news-300d-1M.vec.zip"
   ]
  },
  {
   "cell_type": "code",
   "execution_count": null,
   "metadata": {},
   "outputs": [],
   "source": [
    "wv_from_text = KeyedVectors.load_word2vec_format('data/wiki-news-300d-1M.vec')"
   ]
  },
  {
   "cell_type": "code",
   "execution_count": null,
   "metadata": {},
   "outputs": [],
   "source": [
    "fasttext_data = {name: dict() for name in data_splits}\n",
    "\n",
    "for d, name in zip((train, dev, test), data_splits):\n",
    "    fasttext_data[name]['text1'] = np.array([text2vec(t, wv_from_text) for t in d['text1'].tolist()])\n",
    "    fasttext_data[name]['text2'] = np.array([text2vec(t, wv_from_text) for t in d['text2'].tolist()])"
   ]
  },
  {
   "cell_type": "code",
   "execution_count": null,
   "metadata": {},
   "outputs": [],
   "source": [
    "fasttext_data['train']['text1'].shape"
   ]
  },
  {
   "cell_type": "code",
   "execution_count": null,
   "metadata": {},
   "outputs": [],
   "source": [
    "best_f1, best_thres = calculate_score(\n",
    "    fasttext_data['dev']['text1'], \n",
    "    fasttext_data['dev']['text2'],\n",
    "    dev['labels'].values\n",
    ")\n",
    "\n",
    "print(f'(DEV) F1 score = {best_f1}')"
   ]
  },
  {
   "cell_type": "code",
   "execution_count": null,
   "metadata": {},
   "outputs": [],
   "source": [
    "test_cos_dists = calculate_cosine_distance(fasttext_data['test']['text1'], fasttext_data['test']['text2'])\n",
    "test_f1 = f1_score((test_cos_dists < best_thres).astype(np.int32), test['labels'].values)\n",
    "print(f'(TEST) F1 score = {test_f1}')"
   ]
  },
  {
   "cell_type": "markdown",
   "metadata": {},
   "source": [
    "## How to handle texts?\n",
    "\n",
    "Embeddings!\n",
    "\n",
    "Word embedding is one of the most popular representation of document vocabulary. It is capable of capturing context of a word in a document, semantic and syntactic similarity, relation with other words, etc.\n",
    "\n",
    "<img src=\"https://adriancolyer.files.wordpress.com/2016/04/word2vec-distributed-representation.png?w=656&zoom=2\">"
   ]
  },
  {
   "cell_type": "code",
   "execution_count": 32,
   "metadata": {},
   "outputs": [],
   "source": [
    "from collections import defaultdict\n",
    "\n",
    "import torchtext\n",
    "import torch\n",
    "import torch.nn as nn"
   ]
  },
  {
   "cell_type": "code",
   "execution_count": 33,
   "metadata": {},
   "outputs": [
    {
     "data": {
      "text/plain": [
       "'1.3.0'"
      ]
     },
     "execution_count": 33,
     "metadata": {},
     "output_type": "execute_result"
    }
   ],
   "source": [
    "torch.__version__"
   ]
  },
  {
   "cell_type": "code",
   "execution_count": 34,
   "metadata": {},
   "outputs": [
    {
     "data": {
      "text/plain": [
       "'0.4.0'"
      ]
     },
     "execution_count": 34,
     "metadata": {},
     "output_type": "execute_result"
    }
   ],
   "source": [
    "torchtext.__version__"
   ]
  },
  {
   "cell_type": "code",
   "execution_count": 35,
   "metadata": {},
   "outputs": [],
   "source": [
    "if not os.path.exists('data/paraphrase'):\n",
    "    os.makedirs('data/paraphrase')\n",
    "\n",
    "train.to_csv('data/paraphrase/train.csv', index=False)\n",
    "dev.to_csv('data/paraphrase/dev.csv', index=False)\n",
    "test.to_csv('data/paraphrase/test.csv', index=False)"
   ]
  },
  {
   "cell_type": "code",
   "execution_count": 36,
   "metadata": {},
   "outputs": [
    {
     "name": "stdout",
     "output_type": "stream",
     "text": [
      "`cpu` device is being used.\n"
     ]
    }
   ],
   "source": [
    "device_name = 'cuda' if torch.cuda.is_available() else 'cpu'\n",
    "device = torch.device(device_name)\n",
    "\n",
    "print(f'`{device}` device is being used.')"
   ]
  },
  {
   "cell_type": "code",
   "execution_count": 37,
   "metadata": {},
   "outputs": [],
   "source": [
    "class ParaphraseDataset:\n",
    "    def __init__(self, path, min_freq=2, batch_sizes=(64, 64, 64), device=device):\n",
    "        self.path = path\n",
    "        self.min_freq = min_freq\n",
    "        self.batch_sizes = batch_sizes\n",
    "        self.device = device\n",
    "\n",
    "        self.text_field = None\n",
    "        self.labels_field = None\n",
    "        \n",
    "        self.train_dataset, self.dev_dataset, self.test_dataset = None, None, None\n",
    "        self._build_fields()\n",
    "        \n",
    "    @property\n",
    "    def vocab(self):\n",
    "        return dict(self.text_field.vocab.stoi)\n",
    "    \n",
    "    @property\n",
    "    def inv_vocab(self):\n",
    "        return {i: key for i, key in enumerate(self.text_field.vocab.itos)}\n",
    "    \n",
    "    def _get_corpus(self, dataset):\n",
    "        corpus = []\n",
    "        for example in dataset.examples:\n",
    "            corpus.append(self.text_field.preprocess(' '.join(example.text1)))\n",
    "            corpus.append(self.text_field.preprocess(' '.join(example.text2)))\n",
    "        return corpus\n",
    "    \n",
    "    def _build_fields(self):\n",
    "        self.text_field = torchtext.data.Field(\n",
    "            sequential=True,\n",
    "            batch_first=True,\n",
    "            lower=True,\n",
    "            preprocessing=None\n",
    "        )\n",
    "\n",
    "        self.label_field = torchtext.data.Field(\n",
    "            sequential=False,\n",
    "            use_vocab=False,\n",
    "            is_target=True,\n",
    "            batch_first=True,\n",
    "            dtype=torch.float32\n",
    "        )\n",
    "        \n",
    "        fields = [\n",
    "            ('text1', self.text_field),\n",
    "            ('text2', self.text_field),\n",
    "            ('labels', self.label_field)\n",
    "        ]\n",
    "        \n",
    "        self.train_dataset, self.dev_dataset, self.test_dataset = torchtext.data.TabularDataset.splits(\n",
    "            path=self.path,\n",
    "            root='.',\n",
    "            train='train.csv',\n",
    "            validation='dev.csv',\n",
    "            test='test.csv',\n",
    "            format='csv',\n",
    "            fields=fields,\n",
    "            skip_header=True\n",
    "        )\n",
    "        \n",
    "        corpus = self._get_corpus(self.train_dataset)\n",
    "        self.text_field.build_vocab(corpus, min_freq=self.min_freq, specials=['<unk>', '<pad>'])\n",
    "\n",
    "    def create_iterators(self):\n",
    "        train_iter, dev_iter, test_iter = torchtext.data.Iterator.splits(\n",
    "            datasets=(self.train_dataset, self.dev_dataset, self.test_dataset),\n",
    "            batch_sizes=self.batch_sizes,\n",
    "            shuffle=(False, False, False),\n",
    "            sort=False,\n",
    "            device=self.device\n",
    "        )\n",
    "        \n",
    "        return train_iter, dev_iter, test_iter\n",
    "    \n",
    "    def vectorize(self, data):\n",
    "        pass"
   ]
  },
  {
   "cell_type": "code",
   "execution_count": 38,
   "metadata": {},
   "outputs": [],
   "source": [
    "dataset = ParaphraseDataset(path='data/paraphrase/')\n",
    "train_iter, dev_iter, test_iter = dataset.create_iterators()"
   ]
  },
  {
   "cell_type": "code",
   "execution_count": 39,
   "metadata": {},
   "outputs": [
    {
     "data": {
      "text/plain": [
       "(1550, 1550)"
      ]
     },
     "execution_count": 39,
     "metadata": {},
     "output_type": "execute_result"
    }
   ],
   "source": [
    "len(dataset.vocab), len(dataset.inv_vocab)"
   ]
  },
  {
   "cell_type": "code",
   "execution_count": 40,
   "metadata": {},
   "outputs": [],
   "source": [
    "batch = next(iter(dev_iter))"
   ]
  },
  {
   "cell_type": "code",
   "execution_count": 41,
   "metadata": {},
   "outputs": [
    {
     "data": {
      "text/plain": [
       "\n",
       "[torchtext.data.batch.Batch of size 64]\n",
       "\t[.text1]:[torch.LongTensor of size 64x32]\n",
       "\t[.text2]:[torch.LongTensor of size 64x32]\n",
       "\t[.labels]:[torch.FloatTensor of size 64]"
      ]
     },
     "execution_count": 41,
     "metadata": {},
     "output_type": "execute_result"
    }
   ],
   "source": [
    "batch"
   ]
  },
  {
   "cell_type": "code",
   "execution_count": 42,
   "metadata": {},
   "outputs": [
    {
     "data": {
      "text/plain": [
       "(torch.Size([64, 32]), torch.Size([64, 32]), torch.Size([64]))"
      ]
     },
     "execution_count": 42,
     "metadata": {},
     "output_type": "execute_result"
    }
   ],
   "source": [
    "batch.text1.shape, batch.text2.shape, batch.labels.shape"
   ]
  },
  {
   "cell_type": "code",
   "execution_count": 43,
   "metadata": {},
   "outputs": [
    {
     "data": {
      "text/plain": [
       "tensor([[  5,  14,   6,  ...,   1,   1,   1],\n",
       "        [  5, 669,   4,  ...,   1,   1,   1],\n",
       "        [  6, 127,   3,  ...,   1,   1,   1],\n",
       "        ...,\n",
       "        [  3,   4,  35,  ...,   1,   1,   1],\n",
       "        [  3,   4,  19,  ...,   1,   1,   1],\n",
       "        [ 17,  10,   6,  ...,   1,   1,   1]])"
      ]
     },
     "execution_count": 43,
     "metadata": {},
     "output_type": "execute_result"
    }
   ],
   "source": [
    "batch.text1"
   ]
  },
  {
   "cell_type": "markdown",
   "metadata": {},
   "source": [
    "## Neural baseline\n",
    "\n",
    "<img src=\"https://i.ibb.co/D7R7kNH/raai-pizza.png\">"
   ]
  },
  {
   "cell_type": "code",
   "execution_count": 44,
   "metadata": {},
   "outputs": [],
   "source": [
    "class EmbeddingLayer(nn.Module):\n",
    "\n",
    "    def __init__(self, emb_dim, ntokens=len(dataset.vocab), \n",
    "                 padding_idx=dataset.vocab['<pad>']):\n",
    "        super().__init__()\n",
    "\n",
    "        self.emb_dim = emb_dim\n",
    "        self.ntokens = ntokens\n",
    "        self.emb = nn.Embedding(\n",
    "            num_embeddings=self.ntokens,\n",
    "            embedding_dim=self.emb_dim, \n",
    "            padding_idx=padding_idx\n",
    "        )\n",
    "\n",
    "    def forward(self, ids):\n",
    "        x = self.emb(ids)\n",
    "        return x"
   ]
  },
  {
   "cell_type": "code",
   "execution_count": 45,
   "metadata": {},
   "outputs": [
    {
     "data": {
      "text/plain": [
       "EmbeddingLayer(\n",
       "  (emb): Embedding(1769, 64, padding_idx=1)\n",
       ")"
      ]
     },
     "execution_count": 45,
     "metadata": {},
     "output_type": "execute_result"
    }
   ],
   "source": [
    "embedder = EmbeddingLayer(emb_dim=64)\n",
    "\n",
    "embedder.to(device)"
   ]
  },
  {
   "cell_type": "code",
   "execution_count": 46,
   "metadata": {},
   "outputs": [
    {
     "data": {
      "text/plain": [
       "(torch.Size([64, 32]), torch.Size([64, 32]))"
      ]
     },
     "execution_count": 46,
     "metadata": {},
     "output_type": "execute_result"
    }
   ],
   "source": [
    "batch.text1.shape, batch.text2.shape"
   ]
  },
  {
   "cell_type": "code",
   "execution_count": 47,
   "metadata": {},
   "outputs": [
    {
     "data": {
      "text/plain": [
       "(torch.Size([64, 32, 64]), torch.Size([64, 32, 64]))"
      ]
     },
     "execution_count": 47,
     "metadata": {},
     "output_type": "execute_result"
    }
   ],
   "source": [
    "with torch.no_grad():\n",
    "    embeddings1 = embedder(batch.text1)\n",
    "    embeddings2 = embedder(batch.text2)\n",
    "\n",
    "embeddings1.shape, embeddings2.shape"
   ]
  },
  {
   "cell_type": "code",
   "execution_count": 48,
   "metadata": {},
   "outputs": [
    {
     "data": {
      "text/plain": [
       "tensor([[-1.0517,  0.1326, -0.7974,  ...,  2.3644, -1.5024,  0.2599],\n",
       "        [ 0.0737,  0.1903,  0.3190,  ..., -0.7811, -0.3785,  0.2524],\n",
       "        [ 0.5763, -1.1727,  0.9659,  ..., -0.7192, -0.0527,  0.2945],\n",
       "        ...,\n",
       "        [ 0.0000,  0.0000,  0.0000,  ...,  0.0000,  0.0000,  0.0000],\n",
       "        [ 0.0000,  0.0000,  0.0000,  ...,  0.0000,  0.0000,  0.0000],\n",
       "        [ 0.0000,  0.0000,  0.0000,  ...,  0.0000,  0.0000,  0.0000]])"
      ]
     },
     "execution_count": 48,
     "metadata": {},
     "output_type": "execute_result"
    }
   ],
   "source": [
    "embeddings1[0]"
   ]
  },
  {
   "cell_type": "markdown",
   "metadata": {},
   "source": [
    "<img src=\"https://i0.wp.com/mlexplained.com/wp-content/uploads/2018/05/%E3%82%B9%E3%82%AF%E3%83%AA%E3%83%BC%E3%83%B3%E3%82%B7%E3%83%A7%E3%83%83%E3%83%88-2018-05-10-13.29.52.png?w=366\">"
   ]
  },
  {
   "cell_type": "code",
   "execution_count": 49,
   "metadata": {},
   "outputs": [],
   "source": [
    "class MeanPoolingOverTime(nn.Module):\n",
    "\n",
    "    def __init__(self, dim=1):\n",
    "        super().__init__()\n",
    "        self.dim = dim\n",
    "\n",
    "    def forward(self, x):\n",
    "        return torch.mean(x, dim=self.dim)\n",
    "\n",
    "\n",
    "class AveragingNetwork(nn.Module):\n",
    "\n",
    "    def __init__(self, emb_dim=64, hidden_dim=32, output_dim=16):\n",
    "        super().__init__()\n",
    "        self.emb_dim = emb_dim\n",
    "        self.hidden_dim = hidden_dim\n",
    "        self.output_dim = output_dim\n",
    "\n",
    "        self.feed_forward = nn.Sequential(\n",
    "            MeanPoolingOverTime(),\n",
    "            nn.Linear(in_features=self.emb_dim, out_features=self.hidden_dim),\n",
    "            nn.LeakyReLU(),\n",
    "            nn.Linear(in_features=hidden_dim, out_features=self.output_dim),\n",
    "        )\n",
    "\n",
    "    def forward(self, embeds):\n",
    "\n",
    "        hidden = self.feed_forward(embeds)\n",
    "\n",
    "        return hidden"
   ]
  },
  {
   "cell_type": "code",
   "execution_count": 50,
   "metadata": {},
   "outputs": [
    {
     "data": {
      "text/plain": [
       "AveragingNetwork(\n",
       "  (feed_forward): Sequential(\n",
       "    (0): MeanPoolingOverTime()\n",
       "    (1): Linear(in_features=64, out_features=32, bias=True)\n",
       "    (2): LeakyReLU(negative_slope=0.01)\n",
       "    (3): Linear(in_features=32, out_features=16, bias=True)\n",
       "  )\n",
       ")"
      ]
     },
     "execution_count": 50,
     "metadata": {},
     "output_type": "execute_result"
    }
   ],
   "source": [
    "body = AveragingNetwork()\n",
    "\n",
    "body.to(device)"
   ]
  },
  {
   "cell_type": "code",
   "execution_count": 51,
   "metadata": {},
   "outputs": [
    {
     "data": {
      "text/plain": [
       "(torch.Size([64, 16]), torch.Size([64, 16]))"
      ]
     },
     "execution_count": 51,
     "metadata": {},
     "output_type": "execute_result"
    }
   ],
   "source": [
    "with torch.no_grad():\n",
    "    hidden_vectors1 = body(embeddings1)\n",
    "    hidden_vectors2 = body(embeddings2)\n",
    "\n",
    "hidden_vectors1.shape, hidden_vectors2.shape"
   ]
  },
  {
   "cell_type": "code",
   "execution_count": 52,
   "metadata": {},
   "outputs": [],
   "source": [
    "class SimpleHead(nn.Module):\n",
    "    def __init__(self, output_dim):\n",
    "        super().__init__()\n",
    "\n",
    "        self.output_dim = output_dim\n",
    "        self.dense = nn.Linear(in_features=self.output_dim * 2, out_features=1)\n",
    "\n",
    "    def forward(self, x, y):\n",
    "        concatenated = torch.cat((x, y), dim=1)\n",
    "        z = self.dense(concatenated)\n",
    "\n",
    "        return z"
   ]
  },
  {
   "cell_type": "code",
   "execution_count": 53,
   "metadata": {},
   "outputs": [
    {
     "data": {
      "text/plain": [
       "SimpleHead(\n",
       "  (dense): Linear(in_features=32, out_features=1, bias=True)\n",
       ")"
      ]
     },
     "execution_count": 53,
     "metadata": {},
     "output_type": "execute_result"
    }
   ],
   "source": [
    "head = SimpleHead(output_dim=16)\n",
    "\n",
    "head.to(device)"
   ]
  },
  {
   "cell_type": "code",
   "execution_count": 54,
   "metadata": {},
   "outputs": [
    {
     "data": {
      "text/plain": [
       "torch.Size([64, 1])"
      ]
     },
     "execution_count": 54,
     "metadata": {},
     "output_type": "execute_result"
    }
   ],
   "source": [
    "# logits\n",
    "with torch.no_grad():\n",
    "    output = head(hidden_vectors1, hidden_vectors2)\n",
    "\n",
    "output.shape"
   ]
  },
  {
   "cell_type": "code",
   "execution_count": 55,
   "metadata": {},
   "outputs": [],
   "source": [
    "# putting all together\n",
    "\n",
    "class ModelHandler(nn.Module):\n",
    "    def __init__(self, embedding_encoder, body_encoder, head_encoder):\n",
    "        super().__init__()\n",
    "\n",
    "        self.embedding_encoder = embedding_encoder\n",
    "        self.body_encoder = body_encoder\n",
    "        self.head_encoder = head_encoder\n",
    "\n",
    "    def forward(self, text1, text2):\n",
    "\n",
    "        hidden1 = self.predict_hidden(text1, aggregate=False)\n",
    "        hidden2 = self.predict_hidden(text2, aggregate=False)\n",
    "\n",
    "        output = self.head_encoder(hidden1, hidden2)\n",
    "\n",
    "        if len(hidden1.size()) > 2:\n",
    "            hidden1 = torch.mean(hidden1, dim=1)\n",
    "            hidden2 = torch.mean(hidden2, dim=1)\n",
    "\n",
    "        return output, (hidden1, hidden2)\n",
    "\n",
    "    def predict_hidden(self, text, aggregate=True):\n",
    "\n",
    "        embeds = self.embedding_encoder(text)\n",
    "        hidden = self.body_encoder(embeds)\n",
    "\n",
    "        if aggregate and len(hidden.size()) > 2:\n",
    "            hidden = torch.mean(hidden, dim=1)\n",
    "\n",
    "        return hidden\n",
    "    \n",
    "    def predict_attention_scores(self, context, query):\n",
    "        hidden1 = self.predict_hidden(context, aggregate=False)\n",
    "        hidden2 = self.predict_hidden(query, aggregate=False)\n",
    "\n",
    "        scores = self.head_encoder.get_scores(hidden1, hidden2)\n",
    "        \n",
    "        return scores\n",
    "    \n",
    "    def get_model_params(self, extra_info=None):\n",
    "        params = dict()\n",
    "        params['embedder_name'] = self.embedding_encoder._get_name()\n",
    "        params['body_name'] = self.body_encoder._get_name()\n",
    "        params['head_name'] = self.head_encoder._get_name()\n",
    "        if extra_info is not None:\n",
    "            params.update(extra_info)\n",
    "        return params"
   ]
  },
  {
   "cell_type": "code",
   "execution_count": 56,
   "metadata": {},
   "outputs": [
    {
     "data": {
      "text/plain": [
       "ModelHandler(\n",
       "  (embedding_encoder): EmbeddingLayer(\n",
       "    (emb): Embedding(1769, 64, padding_idx=1)\n",
       "  )\n",
       "  (body_encoder): AveragingNetwork(\n",
       "    (feed_forward): Sequential(\n",
       "      (0): MeanPoolingOverTime()\n",
       "      (1): Linear(in_features=64, out_features=32, bias=True)\n",
       "      (2): LeakyReLU(negative_slope=0.01)\n",
       "      (3): Linear(in_features=32, out_features=16, bias=True)\n",
       "    )\n",
       "  )\n",
       "  (head_encoder): SimpleHead(\n",
       "    (dense): Linear(in_features=32, out_features=1, bias=True)\n",
       "  )\n",
       ")"
      ]
     },
     "execution_count": 56,
     "metadata": {},
     "output_type": "execute_result"
    }
   ],
   "source": [
    "baseline_model = ModelHandler(\n",
    "    embedding_encoder=embedder,\n",
    "    body_encoder=body, \n",
    "    head_encoder=head\n",
    ")\n",
    "\n",
    "baseline_model.to(device)"
   ]
  },
  {
   "cell_type": "code",
   "execution_count": 57,
   "metadata": {},
   "outputs": [
    {
     "data": {
      "text/plain": [
       "(torch.Size([64, 1]), torch.Size([64, 16]), torch.Size([64, 16]))"
      ]
     },
     "execution_count": 57,
     "metadata": {},
     "output_type": "execute_result"
    }
   ],
   "source": [
    "with torch.no_grad():\n",
    "    output, (hidden1, hidden2) = baseline_model(batch.text1, batch.text2)\n",
    "\n",
    "output.shape, hidden1.shape, hidden2.shape"
   ]
  },
  {
   "cell_type": "markdown",
   "metadata": {},
   "source": [
    "## Training process"
   ]
  },
  {
   "cell_type": "code",
   "execution_count": 58,
   "metadata": {},
   "outputs": [],
   "source": [
    "import tensorboardX\n",
    "from tensorboardX import SummaryWriter\n",
    "from tensorboardX.summary import hparams\n",
    "from sklearn.metrics import f1_score"
   ]
  },
  {
   "cell_type": "code",
   "execution_count": 59,
   "metadata": {},
   "outputs": [
    {
     "data": {
      "text/plain": [
       "'1.9'"
      ]
     },
     "execution_count": 59,
     "metadata": {},
     "output_type": "execute_result"
    }
   ],
   "source": [
    "tensorboardX.__version__"
   ]
  },
  {
   "cell_type": "code",
   "execution_count": 60,
   "metadata": {},
   "outputs": [],
   "source": [
    "class HSummaryWriter(SummaryWriter):\n",
    "    def add_hyperparams(self, hparam_dict, metric_dict):\n",
    "        if type(hparam_dict) is not dict or type(metric_dict) is not dict:\n",
    "            raise TypeError('hparam_dict and metric_dict should be dictionary.')\n",
    "        exp, ssi, sei = hparams(hparam_dict, metric_dict)\n",
    "        self.file_writer.add_summary(exp)\n",
    "        self.file_writer.add_summary(ssi)\n",
    "        self.file_writer.add_summary(sei)"
   ]
  },
  {
   "cell_type": "markdown",
   "metadata": {},
   "source": [
    "<img src=\"https://cdn-images-1.medium.com/max/1600/1*UJxVqLnbSj42eRhasKeLOA.png\">"
   ]
  },
  {
   "cell_type": "code",
   "execution_count": 61,
   "metadata": {},
   "outputs": [],
   "source": [
    "def calculate_f1(y_true, y_prob, thres=None, average='binary'):\n",
    "    if thres is None:\n",
    "        score = max([\n",
    "            f1_score(y_true, (y_prob > thres).astype(int), average=average) for thres in np.linspace(0, 1)\n",
    "        ])\n",
    "    else:\n",
    "        if average != 'binary':\n",
    "            preds = y_prob\n",
    "        else:\n",
    "            preds = (y_prob > thres).astype(int)\n",
    "        score = float(f1_score(y_true, preds, average=average))\n",
    "    return score\n",
    "\n",
    "\n",
    "def save_checkpoint(state_dict: dict, path: str, epoch: int) -> None:\n",
    "    torch.save(state_dict, f'{path}/model_{epoch}')\n",
    "    \n",
    "\n",
    "def write_metrics(writer, step, values):\n",
    "    for name, value in values.items():\n",
    "        writer.add_scalar(name, value, global_step=step)"
   ]
  },
  {
   "cell_type": "code",
   "execution_count": 62,
   "metadata": {},
   "outputs": [],
   "source": [
    "num_epochs = 5\n",
    "save_freq = 30\n",
    "\n",
    "CRITERION = nn.BCEWithLogitsLoss()\n",
    "\n",
    "\n",
    "def train_one_epoch(model, optimizer, iterator, writer, epoch):\n",
    "    model.train()\n",
    "    for step, batch in enumerate(iterator, start=(epoch - 1) * len(iterator)):\n",
    "\n",
    "        optimizer.zero_grad()\n",
    "\n",
    "        logits, (text1_hidden, text2_hidden) = model(batch.text1, batch.text2)\n",
    "        loss = CRITERION(logits.squeeze(), batch.labels)\n",
    "        loss.backward()\n",
    "        optimizer.step()\n",
    "        \n",
    "        if step % save_freq == 0:\n",
    "            y_true = batch.labels.cpu().numpy()\n",
    "            y_prob = torch.sigmoid(logits).detach().cpu().numpy()\n",
    "            f1 = calculate_f1(y_true=y_true, y_prob=y_prob)\n",
    "            write_metrics(writer, step, {'loss': loss.item(), 'f1': f1})\n",
    "            print(f'[Train]  Epoch = {epoch}, Loss Value = {loss.item():.4f}, F1 score = {f1:.4f}')\n",
    "\n",
    "\n",
    "def validate(model, iterator, writer, epoch, step=None):\n",
    "    model.eval()\n",
    "    with torch.no_grad():\n",
    "        loss_history = list()\n",
    "        f1_history = list()\n",
    "        for batch in iterator:\n",
    "            logits, (text1_hidden, text2_hidden) = model(batch.text1, batch.text2)\n",
    "            loss = CRITERION(logits.squeeze(), batch.labels)\n",
    "            loss_history.append(loss.item())\n",
    "            \n",
    "            y_true = batch.labels.cpu().numpy()\n",
    "            y_prob = torch.sigmoid(logits).detach().cpu().numpy()\n",
    "            f1 = calculate_f1(y_true=y_true, y_prob=y_prob)\n",
    "            f1_history.append(f1)\n",
    "\n",
    "    loss = np.mean(loss_history)\n",
    "    f1 = np.mean(f1_history)\n",
    "    metrics = {'loss': loss, 'f1': f1}\n",
    "    write_metrics(writer, step, metrics)\n",
    "    print(f'>>>>>>> [Test]  Epoch = {epoch}, Loss Value = {loss:.4f}, F1 score = {f1:.4f}')\n",
    "    return metrics\n",
    "\n",
    "\n",
    "def train_evaluate(model_path,\n",
    "                   model,\n",
    "                   train_iter,\n",
    "                   dev_iter,\n",
    "                   num_epochs=num_epochs, \n",
    "                   save_freq=save_freq):\n",
    "    \n",
    "    optimizer = torch.optim.Adam(model.parameters(), lr=0.003)\n",
    "    \n",
    "    train_writer = SummaryWriter(model_path)\n",
    "    dev_writer = SummaryWriter(os.path.join(model_path, 'eval'))\n",
    "    \n",
    "    metrics = validate(model, dev_iter, dev_writer, epoch=0, step=0)\n",
    "\n",
    "    for epoch in range(1, num_epochs + 1):\n",
    "        train_one_epoch(model, optimizer, train_iter, train_writer, epoch)\n",
    "        metrics = validate(model, dev_iter, dev_writer, epoch, step=(epoch * len(train_iter)))\n",
    "        \n",
    "        save_checkpoint(model.state_dict(), str(model_path), epoch)\n",
    "        \n",
    "    with HSummaryWriter(os.path.join(model_path, 'eval')) as w:\n",
    "        w.add_hyperparams(model.get_model_params(), metrics)\n",
    "        \n",
    "    train_writer.close()\n",
    "    dev_writer.close()"
   ]
  },
  {
   "cell_type": "markdown",
   "metadata": {},
   "source": [
    "$$\n",
    "\\mathcal{L}=-\\sum_{i=1}^{N}\\left[y_{i} \\log p_{i}+\\left(1-y_{i}\\right) \\log \\left(1-p_{i}\\right)\\right]\n",
    "$$"
   ]
  },
  {
   "cell_type": "code",
   "execution_count": 63,
   "metadata": {
    "scrolled": false
   },
   "outputs": [
    {
     "name": "stderr",
     "output_type": "stream",
     "text": [
      "/Library/Frameworks/Python.framework/Versions/3.6/lib/python3.6/site-packages/sklearn/metrics/classification.py:1437: UndefinedMetricWarning: F-score is ill-defined and being set to 0.0 due to no predicted samples.\n",
      "  'precision', 'predicted', average, warn_for)\n"
     ]
    },
    {
     "name": "stdout",
     "output_type": "stream",
     "text": [
      ">>>>>>> [Test]  Epoch = 0, Loss Value = 0.6831, F1 score = 0.5857\n",
      "[Train]  Epoch = 1, Loss Value = 0.6755, F1 score = 0.5682\n",
      ">>>>>>> [Test]  Epoch = 1, Loss Value = 0.6443, F1 score = 0.6809\n",
      ">>>>>>> [Test]  Epoch = 2, Loss Value = 0.5989, F1 score = 0.6839\n",
      "[Train]  Epoch = 3, Loss Value = 0.5433, F1 score = 0.7925\n",
      ">>>>>>> [Test]  Epoch = 3, Loss Value = 0.6101, F1 score = 0.5948\n",
      ">>>>>>> [Test]  Epoch = 4, Loss Value = 0.6972, F1 score = 0.6908\n",
      ">>>>>>> [Test]  Epoch = 5, Loss Value = 0.9105, F1 score = 0.6889\n"
     ]
    }
   ],
   "source": [
    "train_evaluate(\n",
    "    model_path='experiments/model_baseline', \n",
    "    model=baseline_model, \n",
    "    train_iter=train_iter, \n",
    "    dev_iter=dev_iter\n",
    ")"
   ]
  },
  {
   "cell_type": "markdown",
   "metadata": {},
   "source": [
    "## More complex approach\n",
    "\n",
    "<img src=\"https://i.ibb.co/FXDqQbT/Screenshot-2019-07-05-at-09-51-08.png\">"
   ]
  },
  {
   "cell_type": "code",
   "execution_count": 64,
   "metadata": {},
   "outputs": [],
   "source": [
    "class SneakyHead(nn.Module):\n",
    "    def __init__(self, output_dim):\n",
    "        super().__init__()\n",
    "\n",
    "        self.output_dim = output_dim\n",
    "        self.dense = nn.Linear(in_features=self.output_dim * 4, out_features=1)\n",
    "\n",
    "    def forward(self, x, y):\n",
    "        emb_mul = torch.mul(x, y)\n",
    "        emb_abs = torch.abs(x - y)\n",
    "        concatenated = torch.cat([x, y, emb_abs, emb_mul], dim=1)\n",
    "        z = self.dense(concatenated)\n",
    "\n",
    "        return z"
   ]
  },
  {
   "cell_type": "code",
   "execution_count": 65,
   "metadata": {},
   "outputs": [
    {
     "data": {
      "text/plain": [
       "ModelHandler(\n",
       "  (embedding_encoder): EmbeddingLayer(\n",
       "    (emb): Embedding(1769, 128, padding_idx=1)\n",
       "  )\n",
       "  (body_encoder): AveragingNetwork(\n",
       "    (feed_forward): Sequential(\n",
       "      (0): MeanPoolingOverTime()\n",
       "      (1): Linear(in_features=128, out_features=64, bias=True)\n",
       "      (2): LeakyReLU(negative_slope=0.01)\n",
       "      (3): Linear(in_features=64, out_features=32, bias=True)\n",
       "    )\n",
       "  )\n",
       "  (head_encoder): SneakyHead(\n",
       "    (dense): Linear(in_features=128, out_features=1, bias=True)\n",
       "  )\n",
       ")"
      ]
     },
     "execution_count": 65,
     "metadata": {},
     "output_type": "execute_result"
    }
   ],
   "source": [
    "emb_dim = 128\n",
    "hidden_dim = 64\n",
    "output_dim = 32\n",
    "\n",
    "\n",
    "sneaky_model = ModelHandler(\n",
    "    embedding_encoder=EmbeddingLayer(emb_dim),\n",
    "    body_encoder=AveragingNetwork(emb_dim, hidden_dim, output_dim), \n",
    "    head_encoder=SneakyHead(output_dim)\n",
    ")\n",
    "\n",
    "sneaky_model.to(device)"
   ]
  },
  {
   "cell_type": "code",
   "execution_count": 66,
   "metadata": {
    "scrolled": false
   },
   "outputs": [
    {
     "name": "stdout",
     "output_type": "stream",
     "text": [
      ">>>>>>> [Test]  Epoch = 0, Loss Value = 0.7018, F1 score = 0.5701\n",
      "[Train]  Epoch = 1, Loss Value = 0.7068, F1 score = 0.5116\n",
      ">>>>>>> [Test]  Epoch = 1, Loss Value = 0.6283, F1 score = 0.6697\n",
      ">>>>>>> [Test]  Epoch = 2, Loss Value = 0.6482, F1 score = 0.6561\n",
      "[Train]  Epoch = 3, Loss Value = 0.4871, F1 score = 0.7111\n",
      ">>>>>>> [Test]  Epoch = 3, Loss Value = 0.6876, F1 score = 0.7028\n",
      ">>>>>>> [Test]  Epoch = 4, Loss Value = 0.6253, F1 score = 0.7546\n",
      ">>>>>>> [Test]  Epoch = 5, Loss Value = 0.8330, F1 score = 0.6824\n"
     ]
    }
   ],
   "source": [
    "train_evaluate(\n",
    "    model_path='experiments/sneaky_model', \n",
    "    model=sneaky_model, \n",
    "    train_iter=train_iter, \n",
    "    dev_iter=dev_iter\n",
    ")"
   ]
  },
  {
   "cell_type": "markdown",
   "metadata": {},
   "source": [
    "## Let's try attention!\n",
    "\n",
    "But what is attention?\n",
    "\n",
    "Attention is simply a vector, often the outputs of dense layer using softmax function."
   ]
  },
  {
   "cell_type": "markdown",
   "metadata": {},
   "source": [
    "<img src=\"http://jalammar.github.io/images/t/transformer_self-attention_visualization.png\">"
   ]
  },
  {
   "cell_type": "markdown",
   "metadata": {},
   "source": [
    "### Bilinear Attention\n",
    "\n",
    "$$\n",
    "\\begin{aligned} s_{j}^{t} &=h_{j}^{q T} W_{b} h_{t}^{p} \\\\ a_{i}^{t} &=\\exp \\left(s_{i}^{t}\\right) / \\Sigma_{j=1}^{N} \\exp \\left(s_{j}^{t}\\right) \\\\ q_{t}^{b} &=\\Sigma_{i=1}^{N} a_{i}^{t} h_{i}^{q} \\end{aligned}\n",
    "$$\n",
    "\n",
    "### Concat Attention\n",
    "\n",
    "$$\n",
    "\\begin{aligned} s_{j}^{t} &=v_{c}^{T} \\tanh \\left(W_{c}^{1} h_{j}^{q}+W_{c}^{2} h_{t}^{p}\\right) \\\\ a_{i}^{t} &=\\exp \\left(s_{i}^{t}\\right) / \\sum_{j=1}^{N} \\exp \\left(s_{j}^{t}\\right) \\\\ q_{t}^{c} &=\\Sigma_{i=1}^{N} a_{i}^{t} h_{i}^{q} \\end{aligned}\n",
    "$$\n",
    "\n",
    "### Dot Attention\n",
    "\n",
    "$$\n",
    "\\begin{aligned} s_{j}^{t} &=v_{d}^{T} \\tanh \\left(W_{d}\\left(h_{j}^{q} \\odot h_{t}^{p}\\right)\\right) \\\\ a_{i}^{t} &=\\exp \\left(s_{i}^{t}\\right) / \\Sigma_{j=1}^{N} \\exp \\left(s_{j}^{t}\\right) \\\\ q_{t}^{d} &=\\Sigma_{i=1}^{N} a_{i}^{t} h_{i}^{q} \\end{aligned}\n",
    "$$\n",
    "\n",
    "### Minus Attention\n",
    "\n",
    "$$\n",
    "\\begin{aligned} s_{j}^{t} &=v_{m}^{T} \\tanh \\left(W_{m}\\left(h_{j}^{q}-h_{t}^{p}\\right)\\right) \\\\ a_{i}^{t} &=\\exp \\left(s_{i}^{t}\\right) / \\Sigma_{j=1}^{N} \\exp \\left(s_{j}^{t}\\right) \\\\ q_{t}^{m} &=\\Sigma_{i=1}^{N} a_{i}^{t} h_{i}^{q} \\end{aligned}\n",
    "$$"
   ]
  },
  {
   "cell_type": "code",
   "execution_count": 67,
   "metadata": {},
   "outputs": [],
   "source": [
    "class BilinearAttention(nn.Module):\n",
    "    # x^T W y\n",
    "\n",
    "    def __init__(self, emb_dim):\n",
    "        super().__init__()\n",
    "\n",
    "        self.emb_dim = emb_dim\n",
    "        self.W = nn.Linear(self.emb_dim, self.emb_dim, bias=False)\n",
    "\n",
    "    def forward(self, context, query):\n",
    "        scores = self.get_scores(context, query)\n",
    "        output = torch.bmm(scores, context)\n",
    "\n",
    "        return output\n",
    "    \n",
    "    def get_scores(self, context, query):\n",
    "        contextW = self.W(context)\n",
    "        scores = torch.bmm(contextW, query.transpose(1, 2))\n",
    "        scores = torch.softmax(scores, dim=1).transpose(2, 1)\n",
    "        \n",
    "        return scores\n",
    "    \n",
    "    \n",
    "class MinusAttention(nn.Module):\n",
    "    # v^T tanh(W(x - y))\n",
    "\n",
    "    def __init__(self, emb_dim):\n",
    "        super().__init__()\n",
    "\n",
    "        self.emb_dim = emb_dim\n",
    "        self.W = nn.Linear(self.emb_dim, self.emb_dim, bias=False)\n",
    "        self.v = nn.Linear(self.emb_dim, 1, bias=False)\n",
    "\n",
    "    def forward(self, context, query):\n",
    "        scores = self.get_scores(context, query)\n",
    "        output = torch.bmm(scores.transpose(2, 1), context)\n",
    "\n",
    "        return output\n",
    "    \n",
    "    def get_scores(self, context, query):\n",
    "        batch_size, m, _ = context.size()\n",
    "        k = query.size(1)\n",
    "\n",
    "        context_ = context.repeat(1, k, 1)\n",
    "        query_ = query.repeat_interleave(m, dim=1)\n",
    "        minus = torch.sub(context_, query_)\n",
    "\n",
    "        Wminus = self.W(minus)\n",
    "        Wminus_tanh = torch.tanh(Wminus)\n",
    "\n",
    "        scores = self.v(Wminus_tanh)\n",
    "        scores = scores.reshape(batch_size, m, k)\n",
    "        scores = torch.softmax(scores, dim=1)\n",
    "        \n",
    "        return scores\n",
    "\n",
    "\n",
    "class ConcatAttention(nn.Module):\n",
    "    # v^T tanh(W_1 x + W_2 y)\n",
    "\n",
    "    def __init__(self, emb_dim):\n",
    "        super().__init__()\n",
    "\n",
    "        self.emb_dim = emb_dim\n",
    "        self.W1 = nn.Linear(self.emb_dim, self.emb_dim, bias=False)\n",
    "        self.W2 = nn.Linear(self.emb_dim, self.emb_dim, bias=False)\n",
    "        self.v = nn.Linear(self.emb_dim, 1, bias=False)\n",
    "\n",
    "    def forward(self, context, query):\n",
    "        scores = self.get_scores(context, query)\n",
    "        output = torch.bmm(scores.transpose(2, 1), context)\n",
    "\n",
    "        return output\n",
    "    \n",
    "    def get_scores(self, context, query):\n",
    "        batch_size, m, _ = context.size()\n",
    "        k = query.size(1)\n",
    "\n",
    "        context_ = context.repeat(1, k, 1)\n",
    "        query_ = query.repeat_interleave(m, dim=1)\n",
    "\n",
    "        W1context = self.W1(context_)\n",
    "        W2query = self.W2(query_)\n",
    "        Wsum_tanh = torch.tanh(W1context + W2query)\n",
    "\n",
    "        scores = self.v(Wsum_tanh)\n",
    "        scores = scores.reshape(batch_size, m, k)\n",
    "        scores = torch.softmax(scores, dim=1)\n",
    "        \n",
    "        return scores\n",
    "\n",
    "\n",
    "class DotAttention(nn.Module):\n",
    "    # v^T tanh(W (x * y))\n",
    "\n",
    "    def __init__(self, emb_dim):\n",
    "        super().__init__()\n",
    "\n",
    "        self.emb_dim = emb_dim\n",
    "        self.W = nn.Linear(self.emb_dim, self.emb_dim, bias=False)\n",
    "        self.v = nn.Linear(self.emb_dim, 1, bias=False)\n",
    "\n",
    "    def forward(self, context, query):\n",
    "        scores = self.get_scores(context, query)\n",
    "        output = torch.bmm(scores.transpose(2, 1), context)\n",
    "\n",
    "        return output\n",
    "    \n",
    "    def get_scores(self, context, query):\n",
    "        batch_size, m, _ = context.size()\n",
    "        k = query.size(1)\n",
    "\n",
    "        context_ = context.repeat(1, k, 1)\n",
    "        query_ = query.repeat_interleave(m, dim=1)\n",
    "        dot = torch.mul(context_, query_)\n",
    "\n",
    "        Wdot = self.W(dot)\n",
    "        Wdot_tanh = torch.tanh(Wdot)\n",
    "\n",
    "        scores = self.v(Wdot_tanh)\n",
    "        scores = scores.reshape(batch_size, m, k)\n",
    "        scores = torch.softmax(scores, dim=1)\n",
    "        \n",
    "        return scores\n"
   ]
  },
  {
   "cell_type": "code",
   "execution_count": 68,
   "metadata": {},
   "outputs": [
    {
     "data": {
      "text/plain": [
       "BilinearAttention(\n",
       "  (W): Linear(in_features=64, out_features=64, bias=False)\n",
       ")"
      ]
     },
     "execution_count": 68,
     "metadata": {},
     "output_type": "execute_result"
    }
   ],
   "source": [
    "emb_dim = 64\n",
    "\n",
    "att_mechanism = BilinearAttention(emb_dim=emb_dim)\n",
    "att_mechanism.to(device)"
   ]
  },
  {
   "cell_type": "code",
   "execution_count": 69,
   "metadata": {},
   "outputs": [
    {
     "data": {
      "text/plain": [
       "torch.Size([32, 5, 64])"
      ]
     },
     "execution_count": 69,
     "metadata": {},
     "output_type": "execute_result"
    }
   ],
   "source": [
    "batch_size = 32\n",
    "\n",
    "x = torch.rand((batch_size, 3, emb_dim), device=device)\n",
    "y = torch.rand((batch_size, 5, emb_dim), device=device)\n",
    "\n",
    "# [batch_size, query_len, emb_dim]\n",
    "att_mechanism(context=x, query=y).shape"
   ]
  },
  {
   "cell_type": "code",
   "execution_count": 70,
   "metadata": {},
   "outputs": [
    {
     "data": {
      "text/plain": [
       "torch.Size([32, 3, 64])"
      ]
     },
     "execution_count": 70,
     "metadata": {},
     "output_type": "execute_result"
    }
   ],
   "source": [
    "att_mechanism(context=y, query=x).shape"
   ]
  },
  {
   "cell_type": "markdown",
   "metadata": {},
   "source": [
    "<img src=\"https://miro.medium.com/max/1838/1*8nFrwolzTYtUWSaziiJGkg.png\">"
   ]
  },
  {
   "cell_type": "code",
   "execution_count": 71,
   "metadata": {},
   "outputs": [],
   "source": [
    "class SimpleLSTM(nn.Module):\n",
    "\n",
    "    def __init__(self, emb_dim, hidden_dim, num_layers, bidirectional=False, aggregate=False):\n",
    "        super().__init__()\n",
    "        self.emb_dim = emb_dim\n",
    "        self.hidden_dim = hidden_dim\n",
    "        self.bidirectional = bidirectional\n",
    "        self.aggregate = aggregate\n",
    "        self.output_dim = self.hidden_dim * 2 if self.bidirectional else self.hidden_dim\n",
    "\n",
    "        self.rnn = nn.LSTM(\n",
    "            self.emb_dim,\n",
    "            self.hidden_dim,\n",
    "            num_layers=num_layers,\n",
    "            bidirectional=self.bidirectional,\n",
    "            batch_first=True\n",
    "        )\n",
    "\n",
    "    def forward(self, embeds):\n",
    "\n",
    "        output, _ = self.rnn(embeds)\n",
    "\n",
    "        if self.aggregate:\n",
    "            output = torch.mean(output, dim=1)\n",
    "\n",
    "        return output\n"
   ]
  },
  {
   "cell_type": "code",
   "execution_count": 72,
   "metadata": {},
   "outputs": [],
   "source": [
    "class AttentionHead(nn.Module):\n",
    "    def __init__(self, output_dim, attention_mechanism):\n",
    "        super().__init__()\n",
    "\n",
    "        self.output_dim = output_dim\n",
    "        self.attention_mechanism = attention_mechanism(self.output_dim)\n",
    "        self.dense = nn.Linear(in_features=self.output_dim * 8, out_features=1)\n",
    "\n",
    "    def forward(self, x, y):\n",
    "        new_x = self.attention_mechanism(context=y, query=x)\n",
    "        new_y = self.attention_mechanism(context=x, query=y)\n",
    "        \n",
    "        x = torch.cat((new_x, x), dim=-1)\n",
    "        y = torch.cat((new_y, y), dim=-1)\n",
    "\n",
    "        x = torch.mean(x, dim=1)\n",
    "        y = torch.mean(y, dim=1)\n",
    "        \n",
    "        emb_mul = torch.mul(x, y)\n",
    "        emb_abs = torch.abs(x - y)\n",
    "        \n",
    "        concatenated = torch.cat([x, y, emb_mul, emb_abs], dim=1)\n",
    "        z = self.dense(concatenated)\n",
    "\n",
    "        return z\n",
    "    \n",
    "    def get_scores(self, x, y):\n",
    "        scores = self.attention_mechanism.get_scores(x, y)\n",
    "        return scores"
   ]
  },
  {
   "cell_type": "code",
   "execution_count": 73,
   "metadata": {},
   "outputs": [
    {
     "data": {
      "text/plain": [
       "ModelHandler(\n",
       "  (embedding_encoder): EmbeddingLayer(\n",
       "    (emb): Embedding(1769, 128, padding_idx=1)\n",
       "  )\n",
       "  (body_encoder): Identity()\n",
       "  (head_encoder): AttentionHead(\n",
       "    (attention_mechanism): BilinearAttention(\n",
       "      (W): Linear(in_features=128, out_features=128, bias=False)\n",
       "    )\n",
       "    (dense): Linear(in_features=1024, out_features=1, bias=True)\n",
       "  )\n",
       ")"
      ]
     },
     "execution_count": 73,
     "metadata": {},
     "output_type": "execute_result"
    }
   ],
   "source": [
    "emb_dim = 128\n",
    "\n",
    "attention_model_baseline = ModelHandler(\n",
    "    embedding_encoder=EmbeddingLayer(emb_dim=emb_dim), \n",
    "    body_encoder=nn.Identity(), \n",
    "    head_encoder=AttentionHead(\n",
    "        output_dim=emb_dim, \n",
    "        attention_mechanism=BilinearAttention\n",
    "    )\n",
    ")\n",
    "\n",
    "attention_model_baseline.to(device)"
   ]
  },
  {
   "cell_type": "code",
   "execution_count": 74,
   "metadata": {},
   "outputs": [
    {
     "name": "stdout",
     "output_type": "stream",
     "text": [
      ">>>>>>> [Test]  Epoch = 0, Loss Value = 0.6762, F1 score = 0.5446\n",
      "[Train]  Epoch = 1, Loss Value = 0.6802, F1 score = 0.6486\n",
      ">>>>>>> [Test]  Epoch = 1, Loss Value = 0.7081, F1 score = 0.6793\n",
      ">>>>>>> [Test]  Epoch = 2, Loss Value = 0.6404, F1 score = 0.6450\n",
      "[Train]  Epoch = 3, Loss Value = 0.5174, F1 score = 0.7037\n",
      ">>>>>>> [Test]  Epoch = 3, Loss Value = 0.7815, F1 score = 0.6534\n",
      ">>>>>>> [Test]  Epoch = 4, Loss Value = 0.8412, F1 score = 0.6681\n",
      ">>>>>>> [Test]  Epoch = 5, Loss Value = 0.8080, F1 score = 0.6627\n"
     ]
    }
   ],
   "source": [
    "optimizer = torch.optim.Adam(attention_model_baseline.parameters(), lr=0.003)\n",
    "\n",
    "train_evaluate(\n",
    "    model_path='experiments/attention_model_baseline', \n",
    "    model=attention_model_baseline, \n",
    "    train_iter=train_iter, \n",
    "    dev_iter=dev_iter\n",
    ")"
   ]
  },
  {
   "cell_type": "code",
   "execution_count": 75,
   "metadata": {},
   "outputs": [
    {
     "data": {
      "text/plain": [
       "ModelHandler(\n",
       "  (embedding_encoder): EmbeddingLayer(\n",
       "    (emb): Embedding(1769, 128, padding_idx=1)\n",
       "  )\n",
       "  (body_encoder): SimpleLSTM(\n",
       "    (rnn): LSTM(128, 64, batch_first=True)\n",
       "  )\n",
       "  (head_encoder): AttentionHead(\n",
       "    (attention_mechanism): BilinearAttention(\n",
       "      (W): Linear(in_features=64, out_features=64, bias=False)\n",
       "    )\n",
       "    (dense): Linear(in_features=512, out_features=1, bias=True)\n",
       "  )\n",
       ")"
      ]
     },
     "execution_count": 75,
     "metadata": {},
     "output_type": "execute_result"
    }
   ],
   "source": [
    "emb_dim = 128\n",
    "hidden_dim = 64\n",
    "num_layers = 1\n",
    "\n",
    "\n",
    "attention_model = ModelHandler(\n",
    "    embedding_encoder=EmbeddingLayer(emb_dim=emb_dim), \n",
    "    body_encoder=SimpleLSTM(emb_dim=emb_dim, hidden_dim=hidden_dim, num_layers=num_layers), \n",
    "    head_encoder=AttentionHead(\n",
    "        output_dim=hidden_dim, \n",
    "        attention_mechanism=BilinearAttention\n",
    "    )\n",
    ")\n",
    "\n",
    "attention_model.to(device)"
   ]
  },
  {
   "cell_type": "code",
   "execution_count": 76,
   "metadata": {},
   "outputs": [
    {
     "name": "stdout",
     "output_type": "stream",
     "text": [
      ">>>>>>> [Test]  Epoch = 0, Loss Value = 0.6918, F1 score = 0.5470\n",
      "[Train]  Epoch = 1, Loss Value = 0.6933, F1 score = 0.6087\n",
      ">>>>>>> [Test]  Epoch = 1, Loss Value = 0.7128, F1 score = 0.6307\n",
      ">>>>>>> [Test]  Epoch = 2, Loss Value = 0.6183, F1 score = 0.6736\n",
      "[Train]  Epoch = 3, Loss Value = 0.6005, F1 score = 0.6769\n",
      ">>>>>>> [Test]  Epoch = 3, Loss Value = 0.8510, F1 score = 0.6896\n",
      ">>>>>>> [Test]  Epoch = 4, Loss Value = 0.7635, F1 score = 0.6643\n",
      ">>>>>>> [Test]  Epoch = 5, Loss Value = 0.7587, F1 score = 0.6750\n"
     ]
    }
   ],
   "source": [
    "train_evaluate(\n",
    "    model_path='experiments/attention_model', \n",
    "    model=attention_model, \n",
    "    train_iter=train_iter, \n",
    "    dev_iter=dev_iter\n",
    ")"
   ]
  },
  {
   "cell_type": "markdown",
   "metadata": {},
   "source": [
    "Let's run\n",
    "\n",
    "> tensorboard --logdir experiments"
   ]
  },
  {
   "cell_type": "markdown",
   "metadata": {},
   "source": [
    "## Visualization"
   ]
  },
  {
   "cell_type": "code",
   "execution_count": 77,
   "metadata": {},
   "outputs": [],
   "source": [
    "import matplotlib.pyplot as plt\n",
    "from sklearn.preprocessing import MinMaxScaler"
   ]
  },
  {
   "cell_type": "code",
   "execution_count": 80,
   "metadata": {},
   "outputs": [],
   "source": [
    "def text_to_tensor(text, dataset_handler=dataset):\n",
    "    \n",
    "    if isinstance(text, str):\n",
    "        text = [text]\n",
    "    \n",
    "    field = ('x', dataset_handler.train_dataset.fields['text1'])\n",
    "    examples = [torchtext.data.Example.fromlist([t], fields=[field]) for t in text]\n",
    "    dataset = torchtext.data.Dataset(examples, fields=[field])\n",
    "\n",
    "    iterator = torchtext.data.Iterator(\n",
    "        dataset=dataset,\n",
    "        batch_size=len(text),\n",
    "        shuffle=False,\n",
    "        device=device\n",
    "    )\n",
    "    \n",
    "    return next(iter(iterator)).x\n",
    "\n",
    "\n",
    "def plot_attention(query, context, att_weights, scale=True):\n",
    "    tokens_a = query.split()\n",
    "    tokens_b = context.split()\n",
    "    \n",
    "    assert len(tokens_a) == att_weights.shape[0]\n",
    "    assert len(tokens_b) == att_weights.shape[1]\n",
    "    \n",
    "    if scale:\n",
    "        mins = att_weights.min(axis=1)\n",
    "        maxes = att_weights.max(axis=1)\n",
    "        att_weights = (att_weights - mins.reshape(-1, 1))  / (maxes - mins).reshape(-1, 1)\n",
    "\n",
    "    fig, ax = plt.subplots(figsize=(5, 5))\n",
    "    ax.imshow(att_weights, cmap='gray')\n",
    "    ax.set_xticks(np.arange(att_weights.shape[1]))\n",
    "    ax.set_yticks(np.arange(att_weights.shape[0]))\n",
    "\n",
    "    ax.set_xticklabels([word for word in tokens_b])\n",
    "    ax.set_yticklabels([word for word in tokens_a])\n",
    "\n",
    "    ax.tick_params(labelsize=16)\n",
    "    ax.tick_params(axis='x', labelrotation=90)\n",
    "\n",
    "    plt.show()\n",
    "    \n",
    "    \n",
    "def get_attention_scores(model, textA, textB):\n",
    "    with torch.no_grad():\n",
    "        attn_scores = model.predict_attention_scores(\n",
    "            text_to_tensor(textA), \n",
    "            text_to_tensor(textB)\n",
    "        ).squeeze(0)\n",
    "\n",
    "    attn_scores = attn_scores.detach().cpu().numpy()\n",
    "    \n",
    "    return attn_scores"
   ]
  },
  {
   "cell_type": "code",
   "execution_count": 81,
   "metadata": {},
   "outputs": [
    {
     "name": "stdout",
     "output_type": "stream",
     "text": [
      "Label = 0\n",
      "Text1 = what is it like to work in asahi india glass  what will be the pay scale after one or two years\n",
      "Text2 = when will we get the call letter after we get the letter of intent in asahi india glass recruitment\n"
     ]
    },
    {
     "data": {
      "image/png": "[encoded data removed]",
      "text/plain": [
       "<Figure size 360x360 with 1 Axes>"
      ]
     },
     "metadata": {
      "needs_background": "light"
     },
     "output_type": "display_data"
    }
   ],
   "source": [
    "ex = 2\n",
    "\n",
    "textA = train.iloc[ex].text1\n",
    "textB = train.iloc[ex].text2\n",
    "lab = train.iloc[ex].labels\n",
    "\n",
    "print(f'Label = {lab}')\n",
    "print(f'Text1 = {textA}')\n",
    "print(f'Text2 = {textB}')\n",
    "\n",
    "attn_scores = get_attention_scores(attention_model, textA, textB)\n",
    "\n",
    "plot_attention(textB, textA, attn_scores, scale=False)"
   ]
  },
  {
   "cell_type": "code",
   "execution_count": null,
   "metadata": {},
   "outputs": [],
   "source": [
    "# TODO: show that embeddings from the models are better than fasttext's"
   ]
  },
  {
   "cell_type": "markdown",
   "metadata": {},
   "source": [
    "# How to improve?\n",
    "\n",
    "* include triplet loss\n",
    "* gain more data\n",
    "* complex architecture"
   ]
  },
  {
   "cell_type": "markdown",
   "metadata": {},
   "source": [
    "# Reference\n",
    "\n",
    "* [Attention? Attention!](https://lilianweng.github.io/lil-log/2018/06/24/attention-attention.html)\n",
    "* [Supervised Learning of Universal Sentence Representations from Natural Language Inference Data](https://arxiv.org/pdf/1705.02364.pdf)\n",
    "* [Multiway Attention Networks for Modeling Sentence Pairs](https://www.ijcai.org/proceedings/2018/0613.pdf)\n",
    "* [The Annotated Transformer](http://nlp.seas.harvard.edu/2018/04/03/attention.html)\n",
    "* [Neural Machine Translation by Jointly Learning to Align and Translate](https://arxiv.org/abs/1409.0473)\n",
    "* [Attention and Augmented Recurrent Neural Networks](https://distill.pub/2016/augmented-rnns/)"
   ]
  }
 ],
 "metadata": {
  "kernelspec": {
   "display_name": "Python 3",
   "language": "python",
   "name": "python3"
  },
  "language_info": {
   "codemirror_mode": {
    "name": "ipython",
    "version": 3
   },
   "file_extension": ".py",
   "mimetype": "text/x-python",
   "name": "python",
   "nbconvert_exporter": "python",
   "pygments_lexer": "ipython3",
   "version": "3.6.8"
  }
 },
 "nbformat": 4,
 "nbformat_minor": 2
}
